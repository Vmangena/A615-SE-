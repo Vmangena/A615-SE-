{
  "nbformat": 4,
  "nbformat_minor": 0,
  "metadata": {
    "colab": {
      "provenance": [],
      "authorship_tag": "ABX9TyMKhCKGAZHFU9KaaBqOC/0K",
      "include_colab_link": true
    },
    "kernelspec": {
      "name": "python3",
      "display_name": "Python 3"
    },
    "language_info": {
      "name": "python"
    }
  },
  "cells": [
    {
      "cell_type": "markdown",
      "metadata": {
        "id": "view-in-github",
        "colab_type": "text"
      },
      "source": [
        "<a href=\"https://colab.research.google.com/github/Vmangena/A615-SE-/blob/main/task_week_1_se.ipynb\" target=\"_parent\"><img src=\"https://colab.research.google.com/assets/colab-badge.svg\" alt=\"Open In Colab\"/></a>"
      ]
    },
    {
      "cell_type": "markdown",
      "source": [
        "1. Implement weather modeling using the quadratic solution in stages: hard-coding variables keyboard input, read from a file, for a single set of input, multiple sets of inputs.\n",
        "a. save all versions, debug, fix problems, create a Github account"
      ],
      "metadata": {
        "id": "69aEW84R0ihw"
      }
    },
    {
      "cell_type": "code",
      "source": [
        "import math\n",
        "# Hard-code variables\n",
        "T = 30\n",
        "H = 50\n",
        "W = 10\n",
        "weather_score = 0.5 * (T ** 2) - 0.2 * H + 0.1 * W - 15\n",
        "print(f\"Weather Score: {weather_score}\")\n",
        "def solve_quadratic(a, b, c):\n",
        "    discriminant = b ** 2 - 4 * a * c\n",
        "    if discriminant < 0:\n",
        "        return \"No real roots\"\n",
        "    root1 = (-b + math.sqrt(discriminant)) / (2 * a)\n",
        "    root2 = (-b - math.sqrt(discriminant)) / (2 * a)\n",
        "    return root1, root2\n",
        "def classify_weather(score):\n",
        "    if score > 30:\n",
        "        return \"Sunny\"\n",
        "    elif 20 <= score <= 30:\n",
        "        return \"Cloudy\"\n",
        "    elif 10 <= score < 20:\n",
        "        return \"Rainy\"\n",
        "    else:\n",
        "        return \"Stormy\"\n",
        "a = 1\n",
        "b = 6\n",
        "c = 10\n",
        "roots = solve_quadratic(a, b, c)\n",
        "print(f\"Roots of the quadratic equation: {roots}\")\n",
        "prediction = classify_weather(weather_score)\n",
        "print(f\"Weather Prediction: {prediction}\")\n"
      ],
      "metadata": {
        "colab": {
          "base_uri": "https://localhost:8080/"
        },
        "id": "xnL-W_cm2q3m",
        "outputId": "80bd55bb-441e-4354-d670-d39a0fbe32d6"
      },
      "execution_count": null,
      "outputs": [
        {
          "output_type": "stream",
          "name": "stdout",
          "text": [
            "Weather Score: 426.0\n",
            "Roots of the quadratic equation: No real roots\n",
            "Weather Prediction: Sunny\n"
          ]
        }
      ]
    },
    {
      "cell_type": "code",
      "source": [
        "import math\n",
        "# Reading variables using th Keyboard values\n",
        "def weather_model(T, H, W):\n",
        "    result = 0.5 * T ** 2 - 0.2 * H + 0.1 * W - 15\n",
        "    return result\n",
        "def quadratic_solution(T, H, W):\n",
        "    weather_result = weather_model(T, H, W)\n",
        "    if weather_result > 300:\n",
        "        prediction = \"1. Sunny\"\n",
        "    elif 10 <= weather_result <= 200:\n",
        "        prediction = \"2. Cloudy\"\n",
        "    elif 0 <= weather_result <100 :\n",
        "        prediction = \"3. Rainy\"\n",
        "    else:\n",
        "        prediction = \"4. Stormy\"\n",
        "    return weather_result, prediction\n",
        "T = float(input(\"Enter the temperature (T) in degrees Celsius: \"))\n",
        "H = float(input(\"Enter the humidity (H) as a percentage: \"))\n",
        "W = float(input(\"Enter the wind speed (W) in km/h: \"))\n",
        "weather_result, prediction = quadratic_solution(T, H, W)\n",
        "print(f\"\\nWeather Calculation Result: {weather_result:.2f}\")\n",
        "print(f\"Predicted Weather: {prediction}\")\n",
        "\n"
      ],
      "metadata": {
        "colab": {
          "base_uri": "https://localhost:8080/"
        },
        "id": "c6kRFxnU8Myg",
        "outputId": "831ce145-3569-4bc4-a0e5-3fee1ed13bc3"
      },
      "execution_count": null,
      "outputs": [
        {
          "output_type": "stream",
          "name": "stdout",
          "text": [
            "Enter the temperature (T) in degrees Celsius: 20\n",
            "Enter the humidity (H) as a percentage: 60\n",
            "Enter the wind speed (W) in km/h: 10\n",
            "\n",
            "Weather Calculation Result: 174.00\n",
            "Predicted Weather: 2. Cloudy\n"
          ]
        }
      ]
    },
    {
      "cell_type": "code",
      "source": [
        "#Reading variables from files\n",
        "def weather_model(T, H, W):\n",
        "    result = 0.5 * T ** 2 - 0.2 * H + 0.1 * W - 15\n",
        "    return result\n",
        "def quadratic_solution(T, H, W):\n",
        "    weather_result = weather_model(T, H, W)\n",
        "    if weather_result > 300:\n",
        "        prediction = \"1. Sunny\"\n",
        "    elif 10 <= weather_result <= 200:\n",
        "        prediction = \"2. Cloudy\"\n",
        "    elif 0 <= weather_result < 100:\n",
        "        prediction = \"3. Rainy\"\n",
        "    else:\n",
        "        prediction = \"4. Stormy\"\n",
        "\n",
        "    return weather_result, prediction\n",
        "def read_and_predict_weather(file_path):\n",
        "    try:\n",
        "        with open(file_path, 'r') as file:\n",
        "            lines = file.readlines()\n",
        "            for line in lines:\n",
        "                if not line.strip():\n",
        "                    continue\n",
        "                T, H, W = map(float, line.split(','))\n",
        "                weather_result, prediction = quadratic_solution(T, H, W)\n",
        "                print(f\"Temperature: {T}°C, Humidity: {H}%, Wind Speed: {W} km/h\")\n",
        "                print(f\"Weather Calculation Result: {weather_result:.2f}\")\n",
        "                print(f\"Predicted Weather: {prediction}\\n\")\n",
        "    except FileNotFoundError:\n",
        "        print(f\"Error: The file '{file_path}' was not found.\")\n",
        "    except Exception as e:\n",
        "        print(f\"An error occurred: {e}\")\n",
        "file_path = '/content/weather_data.txt'\n",
        "read_and_predict_weather(file_path)\n"
      ],
      "metadata": {
        "colab": {
          "base_uri": "https://localhost:8080/"
        },
        "id": "W-ThWJ_5-wcA",
        "outputId": "47255b1c-582b-46fe-faa1-877b3afa0dcc"
      },
      "execution_count": null,
      "outputs": [
        {
          "output_type": "stream",
          "name": "stdout",
          "text": [
            "Temperature: 30.0°C, Humidity: 50.0%, Wind Speed: 10.0 km/h\n",
            "Weather Calculation Result: 426.00\n",
            "Predicted Weather: 1. Sunny\n",
            "\n"
          ]
        }
      ]
    },
    {
      "cell_type": "code",
      "source": [
        "##function to process a single set of inputs##\n",
        "def weather_model(T, H, W):\n",
        "    result = 0.5 * T ** 2 - 0.2 * H + 0.1 * W - 15\n",
        "    return result\n",
        "def classify_weather(weather_result):\n",
        "    if weather_result > 20:\n",
        "        return \"1. Sunny\"\n",
        "    elif 10 <= weather_result <= 20:\n",
        "        return \"2. Cloudy\"\n",
        "    elif 0 <= weather_result < 10:\n",
        "        return \"3. Rainy\"\n",
        "    else:\n",
        "        return \"4. Stormy\"\n",
        "def process_single_weather_input():\n",
        "    try:\n",
        "        T = float(input(\"Enter the temperature (T) in degrees Celsius: \"))\n",
        "        H = float(input(\"Enter the humidity (H) as a percentage: \"))\n",
        "        W = float(input(\"Enter the wind speed (W) in km/h: \"))\n",
        "        weather_result = weather_model(T, H, W)\n",
        "        prediction = classify_weather(weather_result)\n",
        "        print(f\"\\nInput Data: Temperature (T) = {T}, Humidity (H) = {H}, Wind Speed (W) = {W}\")\n",
        "        print(f\"Weather Calculation Result: {weather_result:.2f}\")\n",
        "        print(f\"Predicted Weather: {prediction}\")\n",
        "    except ValueError:\n",
        "        print(\"Error: Invalid input. Please enter numeric values for T, H, and W.\")\n",
        "process_single_weather_input()\n"
      ],
      "metadata": {
        "id": "lGgW5rQ4Cf7A",
        "colab": {
          "base_uri": "https://localhost:8080/"
        },
        "outputId": "677193c3-eb5d-471b-baee-5642c36de171"
      },
      "execution_count": null,
      "outputs": [
        {
          "output_type": "stream",
          "name": "stdout",
          "text": [
            "Enter the temperature (T) in degrees Celsius: 20\n",
            "Enter the humidity (H) as a percentage: 3\n",
            "Enter the wind speed (W) in km/h: 3\n",
            "\n",
            "Input Data: Temperature (T) = 20.0, Humidity (H) = 3.0, Wind Speed (W) = 3.0\n",
            "Weather Calculation Result: 184.70\n",
            "Predicted Weather: 1. Sunny\n"
          ]
        }
      ]
    },
    {
      "cell_type": "code",
      "source": [
        "# Function to calculate weather condition using the weather equation\n",
        "def weather_model(T, H, W):\n",
        "    result = 0.5 * T ** 2 - 0.2 * H + 0.1 * W - 15\n",
        "    return result\n",
        "def classify_weather(weather_result):\n",
        "    if weather_result > 20:\n",
        "        return \"1. Sunny\"\n",
        "    elif 10 <= weather_result <= 20:\n",
        "        return \"2. Cloudy\"\n",
        "    elif 0 <= weather_result < 10:\n",
        "        return \"3. Rainy\"\n",
        "    else:\n",
        "        return \"4. Stormy\"\n",
        "def process_multiple_weather_inputs():\n",
        "    n = int(input(\"Enter the number of weather data sets to process: \"))\n",
        "    results = []\n",
        "    for i in range(n):\n",
        "        print(f\"\\nProcessing data set {i + 1}:\")\n",
        "        T = float(input(\"Enter the temperature (T) in degrees Celsius: \"))\n",
        "        H = float(input(\"Enter the humidity (H) as a percentage: \"))\n",
        "        W = float(input(\"Enter the wind speed (W) in km/h: \"))\n",
        "        weather_result = weather_model(T, H, W)\n",
        "        prediction = classify_weather(weather_result)\n",
        "        results.append((T, H, W, weather_result, prediction))\n",
        "    print(\"\\nWeather Modeling Results:\")\n",
        "    for i, (T, H, W, weather_result, prediction) in enumerate(results, start=1):\n",
        "        print(f\"Data Set {i}:\")\n",
        "        print(f\"  Temperature (T): {T}°C, Humidity (H): {H}%, Wind Speed (W): {W} km/h\")\n",
        "        print(f\"  Weather Calculation Result: {weather_result:.2f}\")\n",
        "        print(f\"  Predicted Weather: {prediction}\")\n",
        "process_multiple_weather_inputs()\n"
      ],
      "metadata": {
        "colab": {
          "base_uri": "https://localhost:8080/"
        },
        "id": "3gZFJCt9C_rb",
        "outputId": "2e64770a-26c6-4d92-b4cc-03ee1f15a6ed"
      },
      "execution_count": null,
      "outputs": [
        {
          "output_type": "stream",
          "name": "stdout",
          "text": [
            "Enter the number of weather data sets to process: 3\n",
            "\n",
            "Processing data set 1:\n",
            "Enter the temperature (T) in degrees Celsius: 0\n",
            "Enter the humidity (H) as a percentage: 21\n",
            "Enter the wind speed (W) in km/h: 2\n",
            "\n",
            "Processing data set 2:\n",
            "Enter the temperature (T) in degrees Celsius: 32\n",
            "Enter the humidity (H) as a percentage: 12\n",
            "Enter the wind speed (W) in km/h: 5\n",
            "\n",
            "Processing data set 3:\n",
            "Enter the temperature (T) in degrees Celsius: 75\n",
            "Enter the humidity (H) as a percentage: 12\n",
            "Enter the wind speed (W) in km/h: 3\n",
            "\n",
            "Weather Modeling Results:\n",
            "Data Set 1:\n",
            "  Temperature (T): 0.0°C, Humidity (H): 21.0%, Wind Speed (W): 2.0 km/h\n",
            "  Weather Calculation Result: -19.00\n",
            "  Predicted Weather: 4. Stormy\n",
            "Data Set 2:\n",
            "  Temperature (T): 32.0°C, Humidity (H): 12.0%, Wind Speed (W): 5.0 km/h\n",
            "  Weather Calculation Result: 495.10\n",
            "  Predicted Weather: 1. Sunny\n",
            "Data Set 3:\n",
            "  Temperature (T): 75.0°C, Humidity (H): 12.0%, Wind Speed (W): 3.0 km/h\n",
            "  Weather Calculation Result: 2795.40\n",
            "  Predicted Weather: 1. Sunny\n"
          ]
        }
      ]
    }
  ]
}