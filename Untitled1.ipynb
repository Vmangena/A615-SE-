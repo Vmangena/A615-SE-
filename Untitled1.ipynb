{
  "nbformat": 4,
  "nbformat_minor": 0,
  "metadata": {
    "colab": {
      "provenance": [],
      "authorship_tag": "ABX9TyO58RPa2yye9aRsCYKQHDdR",
      "include_colab_link": true
    },
    "kernelspec": {
      "name": "python3",
      "display_name": "Python 3"
    },
    "language_info": {
      "name": "python"
    }
  },
  "cells": [
    {
      "cell_type": "markdown",
      "metadata": {
        "id": "view-in-github",
        "colab_type": "text"
      },
      "source": [
        "<a href=\"https://colab.research.google.com/github/Vmangena/A615-SE-/blob/main/Untitled1.ipynb\" target=\"_parent\"><img src=\"https://colab.research.google.com/assets/colab-badge.svg\" alt=\"Open In Colab\"/></a>"
      ]
    },
    {
      "cell_type": "code",
      "execution_count": 8,
      "metadata": {
        "colab": {
          "base_uri": "https://localhost:8080/"
        },
        "id": "ov2BSxZm-jlu",
        "outputId": "55195384-518e-4e51-fcfe-da31303cfffc"
      },
      "outputs": [
        {
          "output_type": "stream",
          "name": "stdout",
          "text": [
            "Weather Modeling Modes\n",
            "1. Waterfall\n",
            "\n",
            "\n",
            "--- Waterfall Mode ---\n",
            "Enter Temperature (T): 50\n",
            "Enter Humidity (H): 10\n",
            "Enter Wind Speed (W): 12\n",
            "\n",
            "Calculated Weather Condition: 1234.20\n",
            "Invalid choice. Exiting.\n"
          ]
        }
      ],
      "source": [
        "class WeatherModel:\n",
        "    def __init__(self):\n",
        "        \"\"\"Initialize the weather model parameters.\"\"\"\n",
        "        self.parameters = {\n",
        "            \"Temperature (T)\": None,\n",
        "            \"Humidity (H)\": None,\n",
        "            \"Wind Speed (W)\": None,\n",
        "        }\n",
        "\n",
        "    def get_inputs(self):\n",
        "        \"\"\"Get weather parameters from the user.\"\"\"\n",
        "        try:\n",
        "            self.parameters[\"Temperature (T)\"] = float(input(\"Enter Temperature (T): \"))\n",
        "            self.parameters[\"Humidity (H)\"] = float(input(\"Enter Humidity (H): \"))\n",
        "            self.parameters[\"Wind Speed (W)\"] = float(input(\"Enter Wind Speed (W): \"))\n",
        "        except ValueError:\n",
        "            print(\"Invalid input. Please enter numeric values.\")\n",
        "            self.get_inputs()\n",
        "\n",
        "    def calculate_weather(self):\n",
        "        \"\"\"Calculate the weather model using the given quadratic equation.\"\"\"\n",
        "        T = self.parameters[\"Temperature (T)\"]\n",
        "        H = self.parameters[\"Humidity (H)\"]\n",
        "        W = self.parameters[\"Wind Speed (W)\"]\n",
        "\n",
        "        result = 0.5 * (T ** 2) - 0.2 * H + 0.1 * W - 15\n",
        "        return result\n",
        "\n",
        "    def display_result(self):\n",
        "        \"\"\"Display the calculated weather condition.\"\"\"\n",
        "        result = self.calculate_weather()\n",
        "        print(f\"\\nCalculated Weather Condition: {result:.2f}\")\n",
        "\n",
        "# Main Execution in Different Development Modes\n",
        "\n",
        "def main_waterfall():\n",
        "    print(\"\\n--- Waterfall Mode ---\")\n",
        "    weather_model = WeatherModel()\n",
        "    weather_model.get_inputs()\n",
        "    weather_model.display_result()\n",
        "\n",
        "def main_iterative():\n",
        "    print(\"\\n--- Iterative Mode ---\")\n",
        "    weather_model = WeatherModel()\n",
        "    for iteration in range(2):  # Simulate 2 iterations\n",
        "        print(f\"\\nIteration {iteration + 1}\")\n",
        "        weather_model.get_inputs()\n",
        "        weather_model.display_result()\n",
        "\n",
        "def main_agile():\n",
        "    print(\"\\n--- Agile Mode ---\")\n",
        "    weather_model = WeatherModel()\n",
        "    sprint_count = 3  # Simulate 3 sprints\n",
        "    for sprint in range(sprint_count):\n",
        "        print(f\"\\nSprint {sprint + 1}\")\n",
        "        weather_model.get_inputs()\n",
        "        weather_model.display_result()\n",
        "\n",
        "if __name__ == \"__main__\":\n",
        "    print(\"Weather Modeling Modes\")\n",
        "    print(\"1. Waterfall\\n\")\n",
        "\n",
        "    if mode == \"1\":\n",
        "        main_waterfall()\n",
        "        print(\"Invalid choice. Exiting.\")\n"
      ]
    },
    {
      "cell_type": "code",
      "source": [
        "class WeatherModel:\n",
        "    def __init__(self):\n",
        "        \"\"\"Initialize the weather model parameters.\"\"\"\n",
        "        self.parameters = {\n",
        "            \"Temperature (T)\": None,\n",
        "            \"Humidity (H)\": None,\n",
        "            \"Wind Speed (W)\": None,\n",
        "        }\n",
        "    def get_inputs(self):\n",
        "        \"\"\"Get weather parameters from the user.\"\"\"\n",
        "        try:\n",
        "            self.parameters[\"Temperature (T)\"] = float(input(\"Enter Temperature (T): \"))\n",
        "            self.parameters[\"Humidity (H)\"] = float(input(\"Enter Humidity (H): \"))\n",
        "            self.parameters[\"Wind Speed (W)\"] = float(input(\"Enter Wind Speed (W): \"))\n",
        "        except ValueError:\n",
        "            print(\"Invalid input. Please enter numeric values.\")\n",
        "            self.get_inputs()\n",
        "    def calculate_weather(self):\n",
        "        \"\"\"Calculate the weather model using the given quadratic equation.\"\"\"\n",
        "        T = self.parameters[\"Temperature (T)\"]\n",
        "        H = self.parameters[\"Humidity (H)\"]\n",
        "        W = self.parameters[\"Wind Speed (W)\"]\n",
        "        result = 0.5 * (T ** 2) - 0.2 * H + 0.1 * W - 15\n",
        "        return result\n",
        "    def predict_weather(self, weather_result):\n",
        "        \"\"\"Predict weather condition based on the calculated result.\"\"\"\n",
        "        if weather_result > 300:\n",
        "            prediction = \"1. Sunny\"\n",
        "        elif 10 <= weather_result <= 200:\n",
        "            prediction = \"2. Cloudy\"\n",
        "        elif 0 <= weather_result < 100:\n",
        "            prediction = \"3. Rainy\"\n",
        "        else:\n",
        "            prediction = \"4. Stormy\"\n",
        "        return prediction\n",
        "    def display_result(self):\n",
        "        \"\"\"Display the calculated weather condition and prediction.\"\"\"\n",
        "        result = self.calculate_weather()\n",
        "        prediction = self.predict_weather(result)\n",
        "        print(f\"\\nCalculated Weather Condition: {result:.2f}\")\n",
        "        print(f\"Prediction: {prediction}\")\n",
        "def main_waterfall():\n",
        "    print(\"\\n--- Waterfall Mode ---\")\n",
        "    weather_model = WeatherModel()\n",
        "    weather_model.get_inputs()\n",
        "    weather_model.display_result()\n",
        "if __name__ == \"__main__\":\n",
        "    main_waterfall()\n"
      ],
      "metadata": {
        "colab": {
          "base_uri": "https://localhost:8080/"
        },
        "id": "BVTa0EwaGePr",
        "outputId": "79da6802-6545-4aa6-961d-f6116225a01c"
      },
      "execution_count": 11,
      "outputs": [
        {
          "output_type": "stream",
          "name": "stdout",
          "text": [
            "\n",
            "--- Waterfall Mode ---\n",
            "Enter Temperature (T): 23\n",
            "Enter Humidity (H): 12\n",
            "Enter Wind Speed (W): 21\n",
            "\n",
            "Calculated Weather Condition: 249.20\n",
            "Prediction: 4. Stormy\n"
          ]
        }
      ]
    },
    {
      "cell_type": "code",
      "source": [],
      "metadata": {
        "id": "6h4ylaV0G-Ps"
      },
      "execution_count": null,
      "outputs": []
    }
  ]
}